{
 "nbformat": 4,
 "nbformat_minor": 0,
 "metadata": {
  "colab": {
   "name": "COMP527_Perceptron_Assignment.ipynb",
   "provenance": []
  },
  "kernelspec": {
   "name": "python3",
   "display_name": "Python 3"
  },
  "language_info": {
   "name": "python"
  }
 },
 "cells": [
  {
   "cell_type": "markdown",
   "source": [
    "PERCEPTRON IMPLEMENTATION"
   ],
   "metadata": {
    "id": "Zjr2tM0DCwfO"
   }
  },
  {
   "cell_type": "code",
   "execution_count": 19,
   "outputs": [],
   "source": [
    "import numpy as np\n",
    "import pandas as pd\n",
    "\n",
    "class Perceptron:\n",
    "\n",
    "    def __init__(self, learning_rate=0.01, n_iters=20):\n",
    "        self.lr = learning_rate\n",
    "        self.n_iters = n_iters\n",
    "        self.activation_func = self._step_func\n",
    "        self.weights = None\n",
    "        self.bias = None\n",
    "\n",
    "    def fit(self, X, y):\n",
    "        n_samples, n_features = X.shape\n",
    "\n",
    "        #init weights\n",
    "        self.weights = np.zeros(n_features)\n",
    "        self.bias = 0\n",
    "\n",
    "        y_ = np.array([1 if i > 0 else 0 for i in y])\n",
    "\n",
    "        for _ in range(self.n_iters):\n",
    "            for idx, x_i in enumerate(X):\n",
    "                linear_output = np.dot(x_i, self.weights) + self.bias\n",
    "                y_predicted = self.activation_func(linear_output)\n",
    "                update = self.lr * (y_[idx] - y_predicted)\n",
    "                self.weights = self.weights + (update * x_i)\n",
    "                self.bias = self.bias + update\n",
    "\n",
    "    def predict(self, X):\n",
    "        linear_output = np.dot(X, self.weights) + self.bias\n",
    "        y_predicted = self.activation_func(linear_output)\n",
    "        return y_predicted\n",
    "\n",
    "    def _step_func(self, x):\n",
    "        return np.where(x >= 0, 1, 0)\n"
   ],
   "metadata": {
    "collapsed": false,
    "pycharm": {
     "name": "#%%\n"
    }
   }
  },
  {
   "cell_type": "markdown",
   "source": [
    "DEFINE ACCURACY"
   ],
   "metadata": {
    "collapsed": false
   }
  },
  {
   "cell_type": "code",
   "source": [
    "def accuracy(y_true, y_pred):\n",
    "    return np.sum(y_true == y_pred) / len(y_true)"
   ],
   "metadata": {
    "id": "F6o6nmaY57to"
   },
   "execution_count": 20,
   "outputs": []
  },
  {
   "cell_type": "markdown",
   "source": [
    "IMPORT DATA AND TRAIN"
   ],
   "metadata": {
    "id": "FWhhEM8sC4jV"
   }
  },
  {
   "cell_type": "code",
   "source": [
    "train_data_pd = pd.read_csv('train.data', header=None)\n",
    "test_data_pd = pd.read_csv('test.data', header=None)"
   ],
   "metadata": {
    "id": "FMDtqIBSBAi0"
   },
   "execution_count": 21,
   "outputs": []
  },
  {
   "cell_type": "code",
   "source": [
    "data = np.array(train_data_pd.values)  #train data\n",
    "test_data = np.array(test_data_pd.values)  #test data\n",
    "\n",
    "np.random.seed(10)\n",
    "\n",
    "# y_train = [1 if i == 'class-1' else 2 if i == 'class-2' else 3 for i in data[:,4:]]\n",
    "# x_train = data[:, :4]\n",
    "#\n",
    "# y1_test = [1 if i == 'class-1' else 0 for i in test_data[:,4:]]\n",
    "# y2_test = [1 if i == 'class-2' else 0 for i in test_data[:,4:]]\n",
    "# y3_test = [1 if i == 'class-3' else 0 for i in test_data[:,4:]]\n",
    "#\n",
    "# x_test = test_data[:, :4]"
   ],
   "metadata": {
    "id": "J63DNd-vBX_2"
   },
   "execution_count": 22,
   "outputs": []
  },
  {
   "cell_type": "code",
   "execution_count": 23,
   "outputs": [],
   "source": [
    "#train split\n",
    "class1_xy_train = data[:40, :]\n",
    "class2_xy_train = data[40:80, :]\n",
    "class3_xy_train = data[80:, :]\n",
    "\n",
    "#test split\n",
    "class1_xy_test = test_data[:10, :]\n",
    "class2_xy_test = test_data[10:20, :]\n",
    "class3_xy_test = test_data[20:, :]\n",
    "\n",
    "#class 1 and class 2\n",
    "#train data\n",
    "class1_2_xy_train = np.concatenate((class1_xy_train, class2_xy_train), axis=0)\n",
    "np.random.shuffle(class1_2_xy_train)\n",
    "\n",
    "y_train_1_2 = [1 if i == 'class-1' else 0 for i in class1_2_xy_train[:, 4:]]\n",
    "x_train_1_2 = class1_2_xy_train[:, :4]\n",
    "\n",
    "#test data\n",
    "class1_2_xy_test = np.concatenate((class1_xy_test, class2_xy_test), axis=0)\n",
    "np.random.shuffle(class1_2_xy_test)\n",
    "\n",
    "y_test_1_2 = [1 if i == 'class-1' else 0 for i in class1_2_xy_test[:, 4:]]\n",
    "x_test_1_2 = class1_2_xy_test[:, :4]\n",
    "\n",
    "#class 1 and class 3\n",
    "#train data\n",
    "class1_3_xy_train = np.concatenate((class1_xy_train, class3_xy_train), axis=0)\n",
    "np.random.shuffle(class1_3_xy_train)\n",
    "\n",
    "y_train_1_3 = [1 if i == 'class-1' else 0 for i in class1_3_xy_train[:, 4:]]\n",
    "x_train_1_3 = class1_3_xy_train[:, :4]\n",
    "\n",
    "#test data\n",
    "class1_3_xy_test = np.concatenate((class1_xy_test, class3_xy_test), axis=0)\n",
    "np.random.shuffle(class1_3_xy_test)\n",
    "\n",
    "y_test_1_3 = [1 if i == 'class-1' else 0 for i in class1_3_xy_test[:, 4:]]\n",
    "x_test_1_3 = class1_3_xy_test[:, :4]\n",
    "\n",
    "#class 2 and class 3\n",
    "#train data\n",
    "class2_3_xy_train = np.concatenate((class2_xy_train, class3_xy_train), axis=0)\n",
    "np.random.shuffle(class2_3_xy_train)\n",
    "\n",
    "y_train_2_3 = [1 if i == 'class-2' else 0 for i in class2_3_xy_train[:, 4:]]\n",
    "x_train_2_3 = class2_3_xy_train[:, :4]\n",
    "\n",
    "#test data\n",
    "class2_3_xy_test = np.concatenate((class2_xy_test, class3_xy_test), axis=0)\n",
    "np.random.shuffle(class2_3_xy_test)\n",
    "\n",
    "y_test_2_3 = [1 if i == 'class-2' else 0 for i in class2_3_xy_test[:, 4:]]\n",
    "x_test_2_3 = class2_3_xy_test[:, :4]"
   ],
   "metadata": {
    "collapsed": false,
    "pycharm": {
     "name": "#%%\n"
    }
   }
  },
  {
   "cell_type": "code",
   "source": [
    "# 1v1 Classification\n",
    "percept1_2 = Perceptron(learning_rate=0.01, n_iters=20)\n",
    "percept1_3 = Perceptron(learning_rate=0.01, n_iters=20)\n",
    "percept2_3 = Perceptron(learning_rate=0.01, n_iters=20)\n",
    "\n",
    "percept1_2.fit(x_train_1_2, y_train_1_2)\n",
    "percept1_3.fit(x_train_1_3, y_train_1_3)\n",
    "percept2_3.fit(x_train_2_3, y_train_2_3)\n",
    "\n",
    "y1_2_pred = percept1_2.predict(x_test_1_2)\n",
    "y1_3_pred = percept1_3.predict(x_test_1_3)\n",
    "y2_3_pred = percept2_3.predict(x_test_2_3)\n",
    "\n",
    "ty1_2_pred = percept1_2.predict(x_train_1_2)\n",
    "ty1_3_pred = percept1_3.predict(x_train_1_3)\n",
    "ty2_3_pred = percept2_3.predict(x_train_2_3)\n",
    "\n",
    "# print('Class 1v2 training accuracy - '+ty1_2_pred) #100\n",
    "# print('Class 1v3 training accuracy - '+ty1_3_pred) #100\n",
    "# print('Class 2v3 training accuracy - '+ty2_3_pred)\n"
   ],
   "metadata": {
    "colab": {
     "base_uri": "https://localhost:8080/"
    },
    "id": "UFq64pLt1Ef6",
    "outputId": "d49769fa-63af-48cd-b7fc-f446d39d8beb"
   },
   "execution_count": 24,
   "outputs": []
  },
  {
   "cell_type": "code",
   "execution_count": 25,
   "outputs": [
    {
     "name": "stdout",
     "output_type": "stream",
     "text": [
      "Class 1v2 train accuracy - 1.0\n",
      "Class 2v3 train accuracy - 0.9625\n",
      "Class 2v3 train accuracy - 1.0\n"
     ]
    }
   ],
   "source": [
    "print('Class 1v2 train accuracy - ' + str(accuracy(y_train_1_2, ty1_2_pred)))\n",
    "\n",
    "print('Class 2v3 train accuracy - ' + str(accuracy(y_train_2_3, ty2_3_pred)))\n",
    "\n",
    "print('Class 2v3 train accuracy - ' + str(accuracy(y_train_1_3, ty1_3_pred)))"
   ],
   "metadata": {
    "collapsed": false,
    "pycharm": {
     "name": "#%%\n"
    }
   }
  },
  {
   "cell_type": "code",
   "source": [
    "print('Class 1v2 test accuracy - ' + str(accuracy(y_test_1_2, y1_2_pred)))\n",
    "\n",
    "print('Class 1v3 test accuracy - ' + str(accuracy(y_test_1_3, y1_3_pred)))\n",
    "\n",
    "print('Class 2v3 test accuracy - ' + str(accuracy(y_test_2_3, y2_3_pred)))"
   ],
   "metadata": {
    "id": "Y9jtmpwwdfsQ",
    "pycharm": {
     "name": "#%%\n"
    }
   },
   "execution_count": 26,
   "outputs": [
    {
     "name": "stdout",
     "output_type": "stream",
     "text": [
      "Class 1v2 test accuracy - 1.0\n",
      "Class 1v3 test accuracy - 1.0\n",
      "Class 2v3 test accuracy - 1.0\n"
     ]
    }
   ]
  },
  {
   "cell_type": "code",
   "execution_count": 27,
   "outputs": [],
   "source": [
    "#1 v rest classification"
   ],
   "metadata": {
    "collapsed": false,
    "pycharm": {
     "name": "#%%\n"
    }
   }
  },
  {
   "cell_type": "code",
   "execution_count": 28,
   "outputs": [
    {
     "name": "stdout",
     "output_type": "stream",
     "text": [
      "Class 1v23 train accuracy - 1.0\n",
      "Class 1v23 test accuracy - 1.0\n",
      "Class 2v13 train accuracy - 0.6666666666666666\n",
      "Class 2v13 test accuracy - 0.6666666666666666\n",
      "Class 3v12 train accuracy - 0.9833333333333333\n",
      "Class 3v12 test accuracy - 1.0\n"
     ]
    }
   ],
   "source": [
    "np.random.shuffle(data)\n",
    "np.random.shuffle(test_data)\n",
    "\n",
    "#class 1 vs 2&3\n",
    "y_train_1_23 = [1 if i == 'class-1' else 0 for i in data[:, 4:]]\n",
    "x_train_1_23 = data[:, :4]\n",
    "\n",
    "percept1_23 = Perceptron(learning_rate=1, n_iters=20)\n",
    "percept1_23.fit(x_train_1_23, y_train_1_23)\n",
    "\n",
    "ty1_23_pred = percept1_23.predict(x_train_1_23)\n",
    "print('Class 1v23 train accuracy - ' + str(accuracy(y_train_1_23, ty1_23_pred)))\n",
    "\n",
    "y_test_1_23 = [1 if i == 'class-1' else 0 for i in test_data[:, 4:]]\n",
    "x_test_1_23 = test_data[:, :4]\n",
    "\n",
    "y1_23_pred = percept1_23.predict(x_test_1_23)\n",
    "print('Class 1v23 test accuracy - ' + str(accuracy(y_test_1_23, y1_23_pred)))\n",
    "\n",
    "\n",
    "\n",
    "#class 2 vs 1&3\n",
    "y_train_2_13 = [1 if i == 'class-2' else 0 for i in data[:, 4:]]\n",
    "x_train_2_13 = data[:, :4]\n",
    "\n",
    "percept2_13 = Perceptron(learning_rate=1, n_iters=20)\n",
    "percept2_13.fit(x_train_2_13, y_train_2_13)\n",
    "\n",
    "ty2_13_pred = percept2_13.predict(x_train_2_13)\n",
    "print('Class 2v13 train accuracy - ' + str(accuracy(y_train_2_13, ty2_13_pred)))\n",
    "\n",
    "y_test_2_13 = [1 if i == 'class-2' else 0 for i in test_data[:, 4:]]\n",
    "x_test_2_13 = test_data[:, :4]\n",
    "\n",
    "y2_13_pred = percept2_13.predict(x_test_2_13)\n",
    "print('Class 2v13 test accuracy - ' + str(accuracy(y_test_2_13, y2_13_pred)))\n",
    "\n",
    "\n",
    "\n",
    "\n",
    "\n",
    "\n",
    "#class 3 vs 1&2\n",
    "y_train_3_12 = [1 if i == 'class-3' else 0 for i in data[:, 4:]]\n",
    "x_train_3_12 = data[:, :4]\n",
    "\n",
    "percept3_12 = Perceptron(learning_rate=1, n_iters=20)\n",
    "percept3_12.fit(x_train_3_12, y_train_3_12)\n",
    "\n",
    "ty3_12_pred = percept3_12.predict(x_train_3_12)\n",
    "print('Class 3v12 train accuracy - ' + str(accuracy(y_train_3_12, ty3_12_pred)))\n",
    "\n",
    "y_test_3_12 = [1 if i == 'class-3' else 0 for i in test_data[:, 4:]]\n",
    "x_test_3_12 = test_data[:, :4]\n",
    "\n",
    "y3_12_pred = percept3_12.predict(x_test_3_12)\n",
    "print('Class 3v12 test accuracy - ' + str(accuracy(y_test_3_12, y3_12_pred)))"
   ],
   "metadata": {
    "collapsed": false,
    "pycharm": {
     "name": "#%%\n"
    }
   }
  },
  {
   "cell_type": "code",
   "execution_count": 29,
   "outputs": [],
   "source": [
    "class PerceptronL2r:\n",
    "\n",
    "    def __init__(self, learning_rate=1, n_iters=20, r_c = 0.01):\n",
    "        self.lr = learning_rate\n",
    "        self.n_iters = n_iters\n",
    "        self.activation_func = self._step_func\n",
    "        self.weights = None\n",
    "        self.bias = None\n",
    "        self.r_c = r_c\n",
    "\n",
    "    def fit(self, X, y):\n",
    "        n_samples, n_features = X.shape\n",
    "\n",
    "        #init weights\n",
    "        self.weights = np.zeros(n_features)\n",
    "        self.bias = 0\n",
    "\n",
    "        y_ = np.array([1 if i > 0 else 0 for i in y])\n",
    "\n",
    "        for _ in range(self.n_iters):\n",
    "            for idx, x_i in enumerate(X):\n",
    "                linear_output = np.dot(x_i, self.weights) + self.bias\n",
    "                y_predicted = self.activation_func(linear_output)\n",
    "                update = self.lr * (y_[idx] - y_predicted)\n",
    "                self.weights = (1 - 2*self.r_c) * self.weights + (update * x_i)\n",
    "                self.bias = self.bias + update\n",
    "\n",
    "    def predict(self, X):\n",
    "        linear_output = np.dot(X, self.weights) + self.bias\n",
    "        y_predicted = self.activation_func(linear_output)\n",
    "        return y_predicted\n",
    "\n",
    "    def _step_func(self, x):\n",
    "        return np.where(x >= 0, 1, 0)"
   ],
   "metadata": {
    "collapsed": false,
    "pycharm": {
     "name": "#%%\n"
    }
   }
  },
  {
   "cell_type": "code",
   "execution_count": 30,
   "outputs": [
    {
     "name": "stdout",
     "output_type": "stream",
     "text": [
      "Class 1v23 train accuracy - 0.6666666666666666\n",
      "Class 1v23 test accuracy - 0.6666666666666666\n"
     ]
    }
   ],
   "source": [
    "#class 1 vs 2&3\n",
    "y_train_1_23 = [1 if i == 'class-1' else 0 for i in data[:, 4:]]\n",
    "x_train_1_23 = data[:, :4]\n",
    "\n",
    "percept1_23r = PerceptronL2r(learning_rate=1, n_iters=20, r_c=0.01)\n",
    "percept1_23r.fit(x_train_1_23, y_train_1_23)\n",
    "\n",
    "ty1_23_pred = percept1_23r.predict(x_train_1_23)\n",
    "print('Class 1v23 train accuracy - ' + str(accuracy(y_train_1_23, ty1_23_pred)))\n",
    "\n",
    "y_test_1_23 = [1 if i == 'class-1' else 0 for i in test_data[:, 4:]]\n",
    "x_test_1_23 = test_data[:, :4]\n",
    "\n",
    "y1_23_pred = percept1_23r.predict(x_test_1_23)\n",
    "print('Class 1v23 test accuracy - ' + str(accuracy(y_test_1_23, y1_23_pred)))"
   ],
   "metadata": {
    "collapsed": false,
    "pycharm": {
     "name": "#%%\n"
    }
   }
  },
  {
   "cell_type": "code",
   "execution_count": 31,
   "outputs": [
    {
     "name": "stdout",
     "output_type": "stream",
     "text": [
      "Class 1v23 train accuracy - 0.6666666666666666\n",
      "Class 1v23 test accuracy - 0.6666666666666666\n"
     ]
    }
   ],
   "source": [
    "#class 1 vs 2&3\n",
    "y_train_1_23 = [1 if i == 'class-1' else 0 for i in data[:, 4:]]\n",
    "x_train_1_23 = data[:, :4]\n",
    "\n",
    "percept1_23r = PerceptronL2r(learning_rate=1, n_iters=20, r_c=0.1)\n",
    "percept1_23r.fit(x_train_1_23, y_train_1_23)\n",
    "\n",
    "ty1_23_pred = percept1_23r.predict(x_train_1_23)\n",
    "print('Class 1v23 train accuracy - ' + str(accuracy(y_train_1_23, ty1_23_pred)))\n",
    "\n",
    "y_test_1_23 = [1 if i == 'class-1' else 0 for i in test_data[:, 4:]]\n",
    "x_test_1_23 = test_data[:, :4]\n",
    "\n",
    "y1_23_pred = percept1_23r.predict(x_test_1_23)\n",
    "print('Class 1v23 test accuracy - ' + str(accuracy(y_test_1_23, y1_23_pred)))"
   ],
   "metadata": {
    "collapsed": false,
    "pycharm": {
     "name": "#%%\n"
    }
   }
  },
  {
   "cell_type": "code",
   "execution_count": 32,
   "outputs": [
    {
     "name": "stdout",
     "output_type": "stream",
     "text": [
      "Class 1v23 train accuracy - 0.6666666666666666\n",
      "Class 1v23 test accuracy - 0.6666666666666666\n"
     ]
    }
   ],
   "source": [
    "#class 1 vs 2&3\n",
    "y_train_1_23 = [1 if i == 'class-1' else 0 for i in data[:, 4:]]\n",
    "x_train_1_23 = data[:, :4]\n",
    "\n",
    "percept1_23r = PerceptronL2r(learning_rate=1, n_iters=20, r_c=1)\n",
    "percept1_23r.fit(x_train_1_23, y_train_1_23)\n",
    "\n",
    "ty1_23_pred = percept1_23r.predict(x_train_1_23)\n",
    "print('Class 1v23 train accuracy - ' + str(accuracy(y_train_1_23, ty1_23_pred)))\n",
    "\n",
    "y_test_1_23 = [1 if i == 'class-1' else 0 for i in test_data[:, 4:]]\n",
    "x_test_1_23 = test_data[:, :4]\n",
    "\n",
    "y1_23_pred = percept1_23r.predict(x_test_1_23)\n",
    "print('Class 1v23 test accuracy - ' + str(accuracy(y_test_1_23, y1_23_pred)))"
   ],
   "metadata": {
    "collapsed": false,
    "pycharm": {
     "name": "#%%\n"
    }
   }
  },
  {
   "cell_type": "code",
   "execution_count": 33,
   "outputs": [
    {
     "name": "stdout",
     "output_type": "stream",
     "text": [
      "Class 1v23 train accuracy - 0.6666666666666666\n",
      "Class 1v23 test accuracy - 0.6666666666666666\n"
     ]
    },
    {
     "name": "stderr",
     "output_type": "stream",
     "text": [
      "C:\\Users\\ADEDOL~1\\AppData\\Local\\Temp/ipykernel_3516/3675289091.py:25: RuntimeWarning: overflow encountered in multiply\n",
      "  self.weights = (1 - 2*self.r_c) * self.weights + (update * x_i)\n"
     ]
    }
   ],
   "source": [
    "#class 1 vs 2&3\n",
    "y_train_1_23 = [1 if i == 'class-1' else 0 for i in data[:, 4:]]\n",
    "x_train_1_23 = data[:, :4]\n",
    "\n",
    "percept1_23r = PerceptronL2r(learning_rate=1, n_iters=20, r_c=10)\n",
    "percept1_23r.fit(x_train_1_23, y_train_1_23)\n",
    "\n",
    "ty1_23_pred = percept1_23r.predict(x_train_1_23)\n",
    "print('Class 1v23 train accuracy - ' + str(accuracy(y_train_1_23, ty1_23_pred)))\n",
    "\n",
    "y_test_1_23 = [1 if i == 'class-1' else 0 for i in test_data[:, 4:]]\n",
    "x_test_1_23 = test_data[:, :4]\n",
    "\n",
    "y1_23_pred = percept1_23r.predict(x_test_1_23)\n",
    "print('Class 1v23 test accuracy - ' + str(accuracy(y_test_1_23, y1_23_pred)))"
   ],
   "metadata": {
    "collapsed": false,
    "pycharm": {
     "name": "#%%\n"
    }
   }
  },
  {
   "cell_type": "code",
   "execution_count": 34,
   "outputs": [
    {
     "name": "stderr",
     "output_type": "stream",
     "text": [
      "C:\\Users\\ADEDOL~1\\AppData\\Local\\Temp/ipykernel_3516/3675289091.py:25: RuntimeWarning: overflow encountered in multiply\n",
      "  self.weights = (1 - 2*self.r_c) * self.weights + (update * x_i)\n"
     ]
    },
    {
     "name": "stdout",
     "output_type": "stream",
     "text": [
      "Class 1v23 train accuracy - 0.6666666666666666\n",
      "Class 1v23 test accuracy - 0.6666666666666666\n"
     ]
    }
   ],
   "source": [
    "#class 1 vs 2&3\n",
    "y_train_1_23 = [1 if i == 'class-1' else 0 for i in data[:, 4:]]\n",
    "x_train_1_23 = data[:, :4]\n",
    "\n",
    "percept1_23r = PerceptronL2r(learning_rate=1, n_iters=20, r_c=100)\n",
    "percept1_23r.fit(x_train_1_23, y_train_1_23)\n",
    "\n",
    "ty1_23_pred = percept1_23r.predict(x_train_1_23)\n",
    "print('Class 1v23 train accuracy - ' + str(accuracy(y_train_1_23, ty1_23_pred)))\n",
    "\n",
    "y_test_1_23 = [1 if i == 'class-1' else 0 for i in test_data[:, 4:]]\n",
    "x_test_1_23 = test_data[:, :4]\n",
    "\n",
    "y1_23_pred = percept1_23r.predict(x_test_1_23)\n",
    "print('Class 1v23 test accuracy - ' + str(accuracy(y_test_1_23, y1_23_pred)))"
   ],
   "metadata": {
    "collapsed": false,
    "pycharm": {
     "name": "#%%\n"
    }
   }
  },
  {
   "cell_type": "code",
   "execution_count": 35,
   "outputs": [
    {
     "name": "stdout",
     "output_type": "stream",
     "text": [
      "Class 2v13 train accuracy - 0.6666666666666666\n",
      "Class 2v13 test accuracy - 0.6666666666666666\n",
      "Class 3v12 train accuracy - 0.6666666666666666\n",
      "Class 3v12 test accuracy - 0.6666666666666666\n"
     ]
    }
   ],
   "source": [
    "#class 2 vs 1&3\n",
    "y_train_2_13 = [1 if i == 'class-2' else 0 for i in data[:, 4:]]\n",
    "x_train_2_13 = data[:, :4]\n",
    "r_c = 0.01\n",
    "percept2_13r = PerceptronL2r(learning_rate=1, n_iters=20, r_c=r_c)\n",
    "percept2_13r.fit(x_train_2_13, y_train_2_13)\n",
    "\n",
    "ty2_13_pred = percept2_13r.predict(x_train_2_13)\n",
    "print('Class 2v13 train accuracy - ' + str(accuracy(y_train_2_13, ty2_13_pred)))\n",
    "\n",
    "y_test_2_13 = [1 if i == 'class-2' else 0 for i in test_data[:, 4:]]\n",
    "x_test_2_13 = test_data[:, :4]\n",
    "\n",
    "y2_13_pred = percept2_13r.predict(x_test_2_13)\n",
    "print('Class 2v13 test accuracy - ' + str(accuracy(y_test_2_13, y2_13_pred)))\n",
    "\n",
    "\n",
    "\n",
    "#class 3 vs 1&2\n",
    "y_train_3_12 = [1 if i == 'class-3' else 0 for i in data[:, 4:]]\n",
    "x_train_3_12 = data[:, :4]\n",
    "\n",
    "percept3_12r = PerceptronL2r(learning_rate=1, n_iters=20, r_c=r_c)\n",
    "percept3_12r.fit(x_train_3_12, y_train_3_12)\n",
    "\n",
    "ty3_12_pred = percept3_12r.predict(x_train_3_12)\n",
    "print('Class 3v12 train accuracy - ' + str(accuracy(y_train_3_12, ty3_12_pred)))\n",
    "\n",
    "y_test_3_12 = [1 if i == 'class-3' else 0 for i in test_data[:, 4:]]\n",
    "x_test_3_12 = test_data[:, :4]\n",
    "\n",
    "y3_12_pred = percept3_12r.predict(x_test_3_12)\n",
    "print('Class 3v12 test accuracy - ' + str(accuracy(y_test_3_12, y3_12_pred)))"
   ],
   "metadata": {
    "collapsed": false,
    "pycharm": {
     "name": "#%%\n"
    }
   }
  },
  {
   "cell_type": "code",
   "execution_count": 35,
   "outputs": [],
   "source": [],
   "metadata": {
    "collapsed": false,
    "pycharm": {
     "name": "#%%\n"
    }
   }
  }
 ]
}